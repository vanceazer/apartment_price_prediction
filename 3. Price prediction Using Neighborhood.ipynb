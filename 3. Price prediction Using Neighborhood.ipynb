{
 "cells": [
  {
   "cell_type": "code",
   "execution_count": 1,
   "id": "068e6e61",
   "metadata": {},
   "outputs": [],
   "source": [
    "\n",
    "from glob import glob\n",
    "\n",
    "import matplotlib.pyplot as plt\n",
    "import numpy as np\n",
    "import pandas as pd\n",
    "from category_encoders import OneHotEncoder\n",
    "from IPython.display import VimeoVideo\n",
    "from sklearn.linear_model import LinearRegression, Ridge  # noqa F401\n",
    "from sklearn.metrics import mean_absolute_error\n",
    "from sklearn.pipeline import make_pipeline\n",
    "from sklearn.utils.validation import check_is_fitted\n",
    "\n"
   ]
  },
  {
   "cell_type": "code",
   "execution_count": 20,
   "id": "234fd2f7",
   "metadata": {},
   "outputs": [],
   "source": [
    "def wrangle(filepath):\n",
    "    # Read CSV file\n",
    "    df = pd.read_csv(filepath, encoding='latin-1')\n",
    "\n",
    "    # Subset data: Apartments in \"Capital Federal\", less than 400,000\n",
    "    mask_ba = df[\"place_with_parent_names\"].str.contains(\"Capital Federal\")\n",
    "    mask_apt = df[\"property_type\"] == \"apartment\"\n",
    "    mask_price = df[\"price_aprox_usd\"] < 400_000\n",
    "    df = df[mask_ba & mask_apt & mask_price]\n",
    "\n",
    "    # Subset data: Remove outliers for \"surface_covered_in_m2\"\n",
    "    low, high = df[\"surface_covered_in_m2\"].quantile([0.1, 0.9])\n",
    "    mask_area = df[\"surface_covered_in_m2\"].between(low, high)\n",
    "    df = df[mask_area]\n",
    "\n",
    "    # Split \"lat-lon\" column\n",
    "    df[[\"lat\", \"lon\"]] = df[\"lat-lon\"].str.split(\",\", expand=True).astype(float)\n",
    "    df.drop(columns=\"lat-lon\", inplace=True)\n",
    "    \n",
    "#     Neighborhood extraction\n",
    "    df['neighborhood'] = df['place_with_parent_names'].str.split('|',expand=True)[3]\n",
    "    df.drop(columns='place_with_parent_names', inplace=True)\n",
    "\n",
    "    \n",
    "\n",
    "    return df"
   ]
  },
  {
   "cell_type": "code",
   "execution_count": 5,
   "id": "90428368",
   "metadata": {},
   "outputs": [
    {
     "data": {
      "text/plain": [
       "['data\\\\buenos-aires-real-estate-1.csv',\n",
       " 'data\\\\buenos-aires-real-estate-2.csv',\n",
       " 'data\\\\buenos-aires-real-estate-3.csv',\n",
       " 'data\\\\buenos-aires-real-estate-4.csv',\n",
       " 'data\\\\buenos-aires-real-estate-5.csv']"
      ]
     },
     "execution_count": 5,
     "metadata": {},
     "output_type": "execute_result"
    }
   ],
   "source": [
    "files = glob(\"data/buenos-aires-real-estate-*.csv\")\n",
    "\n",
    "files"
   ]
  },
  {
   "cell_type": "code",
   "execution_count": 24,
   "id": "676b0210",
   "metadata": {},
   "outputs": [],
   "source": [
    "frames = []\n",
    "\n",
    "for file in files:\n",
    "#     print(file)\n",
    "    df = wrangle(file)\n",
    "#     print(df.head(5))\n",
    "    frames.append(df) "
   ]
  },
  {
   "cell_type": "code",
   "execution_count": 22,
   "id": "4ae3cf0e",
   "metadata": {},
   "outputs": [
    {
     "data": {
      "text/html": [
       "<div>\n",
       "<style scoped>\n",
       "    .dataframe tbody tr th:only-of-type {\n",
       "        vertical-align: middle;\n",
       "    }\n",
       "\n",
       "    .dataframe tbody tr th {\n",
       "        vertical-align: top;\n",
       "    }\n",
       "\n",
       "    .dataframe thead th {\n",
       "        text-align: right;\n",
       "    }\n",
       "</style>\n",
       "<table border=\"1\" class=\"dataframe\">\n",
       "  <thead>\n",
       "    <tr style=\"text-align: right;\">\n",
       "      <th></th>\n",
       "      <th>operation</th>\n",
       "      <th>property_type</th>\n",
       "      <th>price</th>\n",
       "      <th>currency</th>\n",
       "      <th>price_aprox_local_currency</th>\n",
       "      <th>price_aprox_usd</th>\n",
       "      <th>surface_total_in_m2</th>\n",
       "      <th>surface_covered_in_m2</th>\n",
       "      <th>price_usd_per_m2</th>\n",
       "      <th>price_per_m2</th>\n",
       "      <th>floor</th>\n",
       "      <th>rooms</th>\n",
       "      <th>expenses</th>\n",
       "      <th>properati_url</th>\n",
       "      <th>lat</th>\n",
       "      <th>lon</th>\n",
       "      <th>neighborhood</th>\n",
       "    </tr>\n",
       "  </thead>\n",
       "  <tbody>\n",
       "    <tr>\n",
       "      <th>4</th>\n",
       "      <td>sell</td>\n",
       "      <td>apartment</td>\n",
       "      <td>129000.0</td>\n",
       "      <td>USD</td>\n",
       "      <td>1955949.6</td>\n",
       "      <td>129000.0</td>\n",
       "      <td>76.0</td>\n",
       "      <td>70.0</td>\n",
       "      <td>1697.368421</td>\n",
       "      <td>1842.857143</td>\n",
       "      <td>NaN</td>\n",
       "      <td>NaN</td>\n",
       "      <td>NaN</td>\n",
       "      <td>http://chacarita.properati.com.ar/10qlv_venta_...</td>\n",
       "      <td>-34.584651</td>\n",
       "      <td>-58.454693</td>\n",
       "      <td>Chacarita</td>\n",
       "    </tr>\n",
       "    <tr>\n",
       "      <th>9</th>\n",
       "      <td>sell</td>\n",
       "      <td>apartment</td>\n",
       "      <td>87000.0</td>\n",
       "      <td>USD</td>\n",
       "      <td>1319128.8</td>\n",
       "      <td>87000.0</td>\n",
       "      <td>48.0</td>\n",
       "      <td>42.0</td>\n",
       "      <td>1812.500000</td>\n",
       "      <td>2071.428571</td>\n",
       "      <td>NaN</td>\n",
       "      <td>NaN</td>\n",
       "      <td>NaN</td>\n",
       "      <td>http://villa-luro.properati.com.ar/12m82_venta...</td>\n",
       "      <td>-34.638979</td>\n",
       "      <td>-58.500115</td>\n",
       "      <td>Villa Luro</td>\n",
       "    </tr>\n",
       "    <tr>\n",
       "      <th>29</th>\n",
       "      <td>sell</td>\n",
       "      <td>apartment</td>\n",
       "      <td>118000.0</td>\n",
       "      <td>USD</td>\n",
       "      <td>1789163.2</td>\n",
       "      <td>118000.0</td>\n",
       "      <td>NaN</td>\n",
       "      <td>54.0</td>\n",
       "      <td>NaN</td>\n",
       "      <td>2185.185185</td>\n",
       "      <td>NaN</td>\n",
       "      <td>2.0</td>\n",
       "      <td>NaN</td>\n",
       "      <td>http://caballito.properati.com.ar/11wqh_venta_...</td>\n",
       "      <td>-34.615847</td>\n",
       "      <td>-58.459957</td>\n",
       "      <td>Caballito</td>\n",
       "    </tr>\n",
       "    <tr>\n",
       "      <th>40</th>\n",
       "      <td>sell</td>\n",
       "      <td>apartment</td>\n",
       "      <td>57000.0</td>\n",
       "      <td>USD</td>\n",
       "      <td>864256.8</td>\n",
       "      <td>57000.0</td>\n",
       "      <td>42.0</td>\n",
       "      <td>42.0</td>\n",
       "      <td>1357.142857</td>\n",
       "      <td>1357.142857</td>\n",
       "      <td>5.0</td>\n",
       "      <td>2.0</td>\n",
       "      <td>364.0</td>\n",
       "      <td>http://constitucion.properati.com.ar/k2f0_vent...</td>\n",
       "      <td>-34.625222</td>\n",
       "      <td>-58.382382</td>\n",
       "      <td>Constitución</td>\n",
       "    </tr>\n",
       "    <tr>\n",
       "      <th>41</th>\n",
       "      <td>sell</td>\n",
       "      <td>apartment</td>\n",
       "      <td>90000.0</td>\n",
       "      <td>USD</td>\n",
       "      <td>1364616.0</td>\n",
       "      <td>90000.0</td>\n",
       "      <td>57.0</td>\n",
       "      <td>50.0</td>\n",
       "      <td>1578.947368</td>\n",
       "      <td>1800.000000</td>\n",
       "      <td>NaN</td>\n",
       "      <td>3.0</td>\n",
       "      <td>450.0</td>\n",
       "      <td>http://once.properati.com.ar/suwa_venta_depart...</td>\n",
       "      <td>-34.610610</td>\n",
       "      <td>-58.412511</td>\n",
       "      <td>Once</td>\n",
       "    </tr>\n",
       "  </tbody>\n",
       "</table>\n",
       "</div>"
      ],
      "text/plain": [
       "   operation property_type     price currency  price_aprox_local_currency  \\\n",
       "4       sell     apartment  129000.0      USD                   1955949.6   \n",
       "9       sell     apartment   87000.0      USD                   1319128.8   \n",
       "29      sell     apartment  118000.0      USD                   1789163.2   \n",
       "40      sell     apartment   57000.0      USD                    864256.8   \n",
       "41      sell     apartment   90000.0      USD                   1364616.0   \n",
       "\n",
       "    price_aprox_usd  surface_total_in_m2  surface_covered_in_m2  \\\n",
       "4          129000.0                 76.0                   70.0   \n",
       "9           87000.0                 48.0                   42.0   \n",
       "29         118000.0                  NaN                   54.0   \n",
       "40          57000.0                 42.0                   42.0   \n",
       "41          90000.0                 57.0                   50.0   \n",
       "\n",
       "    price_usd_per_m2  price_per_m2  floor  rooms  expenses  \\\n",
       "4        1697.368421   1842.857143    NaN    NaN       NaN   \n",
       "9        1812.500000   2071.428571    NaN    NaN       NaN   \n",
       "29               NaN   2185.185185    NaN    2.0       NaN   \n",
       "40       1357.142857   1357.142857    5.0    2.0     364.0   \n",
       "41       1578.947368   1800.000000    NaN    3.0     450.0   \n",
       "\n",
       "                                        properati_url        lat        lon  \\\n",
       "4   http://chacarita.properati.com.ar/10qlv_venta_... -34.584651 -58.454693   \n",
       "9   http://villa-luro.properati.com.ar/12m82_venta... -34.638979 -58.500115   \n",
       "29  http://caballito.properati.com.ar/11wqh_venta_... -34.615847 -58.459957   \n",
       "40  http://constitucion.properati.com.ar/k2f0_vent... -34.625222 -58.382382   \n",
       "41  http://once.properati.com.ar/suwa_venta_depart... -34.610610 -58.412511   \n",
       "\n",
       "    neighborhood  \n",
       "4      Chacarita  \n",
       "9     Villa Luro  \n",
       "29     Caballito  \n",
       "40  Constitución  \n",
       "41          Once  "
      ]
     },
     "execution_count": 22,
     "metadata": {},
     "output_type": "execute_result"
    }
   ],
   "source": [
    "frames[0].head()"
   ]
  },
  {
   "cell_type": "code",
   "execution_count": 25,
   "id": "725e4483",
   "metadata": {},
   "outputs": [
    {
     "data": {
      "text/plain": [
       "(6582, 17)"
      ]
     },
     "execution_count": 25,
     "metadata": {},
     "output_type": "execute_result"
    }
   ],
   "source": [
    "df = pd.concat(frames, ignore_index=True)\n",
    "df.shape"
   ]
  },
  {
   "cell_type": "code",
   "execution_count": 26,
   "id": "bf9226b6",
   "metadata": {},
   "outputs": [],
   "source": [
    "features = ['neighborhood']\n",
    "target = 'price_aprox_usd'\n",
    "\n",
    "\n",
    "X_train = df[features]\n",
    "y_train = df[target]"
   ]
  },
  {
   "cell_type": "code",
   "execution_count": 27,
   "id": "eac33d00",
   "metadata": {},
   "outputs": [
    {
     "data": {
      "text/plain": [
       "132383.83701458527"
      ]
     },
     "execution_count": 27,
     "metadata": {},
     "output_type": "execute_result"
    }
   ],
   "source": [
    "y_mean = y_train.mean()\n",
    "y_mean"
   ]
  },
  {
   "cell_type": "code",
   "execution_count": 31,
   "id": "811f96ae",
   "metadata": {},
   "outputs": [
    {
     "name": "stdout",
     "output_type": "stream",
     "text": [
      "[132383.83701458527, 132383.83701458527, 132383.83701458527, 132383.83701458527, 132383.83701458527]\n",
      "44860.10834274134\n"
     ]
    }
   ],
   "source": [
    "y_pred_baseline = [y_mean] * len(y_train)\n",
    "print(y_pred_baseline[:5])\n",
    "\n",
    "\n",
    "mae_baseline = mean_absolute_error(y_train, y_pred_baseline)\n",
    "print(mae_baseline)"
   ]
  },
  {
   "cell_type": "code",
   "execution_count": 32,
   "id": "fc01c157",
   "metadata": {},
   "outputs": [],
   "source": [
    "# INstantiate transformer\n",
    "ohe = OneHotEncoder(use_cat_names=True)"
   ]
  },
  {
   "cell_type": "code",
   "execution_count": 33,
   "id": "c7741efc",
   "metadata": {},
   "outputs": [
    {
     "data": {
      "text/plain": [
       "OneHotEncoder(cols=['neighborhood'], use_cat_names=True)"
      ]
     },
     "execution_count": 33,
     "metadata": {},
     "output_type": "execute_result"
    }
   ],
   "source": [
    "# fitting\n",
    "ohe.fit(X_train)"
   ]
  },
  {
   "cell_type": "code",
   "execution_count": 35,
   "id": "ec8e422d",
   "metadata": {},
   "outputs": [
    {
     "name": "stdout",
     "output_type": "stream",
     "text": [
      "(6582, 57)\n"
     ]
    },
    {
     "data": {
      "text/html": [
       "<div>\n",
       "<style scoped>\n",
       "    .dataframe tbody tr th:only-of-type {\n",
       "        vertical-align: middle;\n",
       "    }\n",
       "\n",
       "    .dataframe tbody tr th {\n",
       "        vertical-align: top;\n",
       "    }\n",
       "\n",
       "    .dataframe thead th {\n",
       "        text-align: right;\n",
       "    }\n",
       "</style>\n",
       "<table border=\"1\" class=\"dataframe\">\n",
       "  <thead>\n",
       "    <tr style=\"text-align: right;\">\n",
       "      <th></th>\n",
       "      <th>neighborhood_Chacarita</th>\n",
       "      <th>neighborhood_Villa Luro</th>\n",
       "      <th>neighborhood_Caballito</th>\n",
       "      <th>neighborhood_Constitución</th>\n",
       "      <th>neighborhood_Once</th>\n",
       "      <th>neighborhood_Almagro</th>\n",
       "      <th>neighborhood_Palermo</th>\n",
       "      <th>neighborhood_Flores</th>\n",
       "      <th>neighborhood_Belgrano</th>\n",
       "      <th>neighborhood_Liniers</th>\n",
       "      <th>...</th>\n",
       "      <th>neighborhood_Puerto Madero</th>\n",
       "      <th>neighborhood_Agronomía</th>\n",
       "      <th>neighborhood_Monte Castro</th>\n",
       "      <th>neighborhood_Tribunales</th>\n",
       "      <th>neighborhood_Villa Santa Rita</th>\n",
       "      <th>neighborhood_Velez Sarsfield</th>\n",
       "      <th>neighborhood_Villa Soldati</th>\n",
       "      <th>neighborhood_Villa Real</th>\n",
       "      <th>neighborhood_Pompeya</th>\n",
       "      <th>neighborhood_Catalinas</th>\n",
       "    </tr>\n",
       "  </thead>\n",
       "  <tbody>\n",
       "    <tr>\n",
       "      <th>0</th>\n",
       "      <td>1</td>\n",
       "      <td>0</td>\n",
       "      <td>0</td>\n",
       "      <td>0</td>\n",
       "      <td>0</td>\n",
       "      <td>0</td>\n",
       "      <td>0</td>\n",
       "      <td>0</td>\n",
       "      <td>0</td>\n",
       "      <td>0</td>\n",
       "      <td>...</td>\n",
       "      <td>0</td>\n",
       "      <td>0</td>\n",
       "      <td>0</td>\n",
       "      <td>0</td>\n",
       "      <td>0</td>\n",
       "      <td>0</td>\n",
       "      <td>0</td>\n",
       "      <td>0</td>\n",
       "      <td>0</td>\n",
       "      <td>0</td>\n",
       "    </tr>\n",
       "    <tr>\n",
       "      <th>1</th>\n",
       "      <td>0</td>\n",
       "      <td>1</td>\n",
       "      <td>0</td>\n",
       "      <td>0</td>\n",
       "      <td>0</td>\n",
       "      <td>0</td>\n",
       "      <td>0</td>\n",
       "      <td>0</td>\n",
       "      <td>0</td>\n",
       "      <td>0</td>\n",
       "      <td>...</td>\n",
       "      <td>0</td>\n",
       "      <td>0</td>\n",
       "      <td>0</td>\n",
       "      <td>0</td>\n",
       "      <td>0</td>\n",
       "      <td>0</td>\n",
       "      <td>0</td>\n",
       "      <td>0</td>\n",
       "      <td>0</td>\n",
       "      <td>0</td>\n",
       "    </tr>\n",
       "    <tr>\n",
       "      <th>2</th>\n",
       "      <td>0</td>\n",
       "      <td>0</td>\n",
       "      <td>1</td>\n",
       "      <td>0</td>\n",
       "      <td>0</td>\n",
       "      <td>0</td>\n",
       "      <td>0</td>\n",
       "      <td>0</td>\n",
       "      <td>0</td>\n",
       "      <td>0</td>\n",
       "      <td>...</td>\n",
       "      <td>0</td>\n",
       "      <td>0</td>\n",
       "      <td>0</td>\n",
       "      <td>0</td>\n",
       "      <td>0</td>\n",
       "      <td>0</td>\n",
       "      <td>0</td>\n",
       "      <td>0</td>\n",
       "      <td>0</td>\n",
       "      <td>0</td>\n",
       "    </tr>\n",
       "    <tr>\n",
       "      <th>3</th>\n",
       "      <td>0</td>\n",
       "      <td>0</td>\n",
       "      <td>0</td>\n",
       "      <td>1</td>\n",
       "      <td>0</td>\n",
       "      <td>0</td>\n",
       "      <td>0</td>\n",
       "      <td>0</td>\n",
       "      <td>0</td>\n",
       "      <td>0</td>\n",
       "      <td>...</td>\n",
       "      <td>0</td>\n",
       "      <td>0</td>\n",
       "      <td>0</td>\n",
       "      <td>0</td>\n",
       "      <td>0</td>\n",
       "      <td>0</td>\n",
       "      <td>0</td>\n",
       "      <td>0</td>\n",
       "      <td>0</td>\n",
       "      <td>0</td>\n",
       "    </tr>\n",
       "    <tr>\n",
       "      <th>4</th>\n",
       "      <td>0</td>\n",
       "      <td>0</td>\n",
       "      <td>0</td>\n",
       "      <td>0</td>\n",
       "      <td>1</td>\n",
       "      <td>0</td>\n",
       "      <td>0</td>\n",
       "      <td>0</td>\n",
       "      <td>0</td>\n",
       "      <td>0</td>\n",
       "      <td>...</td>\n",
       "      <td>0</td>\n",
       "      <td>0</td>\n",
       "      <td>0</td>\n",
       "      <td>0</td>\n",
       "      <td>0</td>\n",
       "      <td>0</td>\n",
       "      <td>0</td>\n",
       "      <td>0</td>\n",
       "      <td>0</td>\n",
       "      <td>0</td>\n",
       "    </tr>\n",
       "  </tbody>\n",
       "</table>\n",
       "<p>5 rows × 57 columns</p>\n",
       "</div>"
      ],
      "text/plain": [
       "   neighborhood_Chacarita  neighborhood_Villa Luro  neighborhood_Caballito  \\\n",
       "0                       1                        0                       0   \n",
       "1                       0                        1                       0   \n",
       "2                       0                        0                       1   \n",
       "3                       0                        0                       0   \n",
       "4                       0                        0                       0   \n",
       "\n",
       "   neighborhood_Constitución  neighborhood_Once  neighborhood_Almagro  \\\n",
       "0                          0                  0                     0   \n",
       "1                          0                  0                     0   \n",
       "2                          0                  0                     0   \n",
       "3                          1                  0                     0   \n",
       "4                          0                  1                     0   \n",
       "\n",
       "   neighborhood_Palermo  neighborhood_Flores  neighborhood_Belgrano  \\\n",
       "0                     0                    0                      0   \n",
       "1                     0                    0                      0   \n",
       "2                     0                    0                      0   \n",
       "3                     0                    0                      0   \n",
       "4                     0                    0                      0   \n",
       "\n",
       "   neighborhood_Liniers  ...  neighborhood_Puerto Madero  \\\n",
       "0                     0  ...                           0   \n",
       "1                     0  ...                           0   \n",
       "2                     0  ...                           0   \n",
       "3                     0  ...                           0   \n",
       "4                     0  ...                           0   \n",
       "\n",
       "   neighborhood_Agronomía  neighborhood_Monte Castro  neighborhood_Tribunales  \\\n",
       "0                       0                          0                        0   \n",
       "1                       0                          0                        0   \n",
       "2                       0                          0                        0   \n",
       "3                       0                          0                        0   \n",
       "4                       0                          0                        0   \n",
       "\n",
       "   neighborhood_Villa Santa Rita  neighborhood_Velez Sarsfield  \\\n",
       "0                              0                             0   \n",
       "1                              0                             0   \n",
       "2                              0                             0   \n",
       "3                              0                             0   \n",
       "4                              0                             0   \n",
       "\n",
       "   neighborhood_Villa Soldati  neighborhood_Villa Real  neighborhood_Pompeya  \\\n",
       "0                           0                        0                     0   \n",
       "1                           0                        0                     0   \n",
       "2                           0                        0                     0   \n",
       "3                           0                        0                     0   \n",
       "4                           0                        0                     0   \n",
       "\n",
       "   neighborhood_Catalinas  \n",
       "0                       0  \n",
       "1                       0  \n",
       "2                       0  \n",
       "3                       0  \n",
       "4                       0  \n",
       "\n",
       "[5 rows x 57 columns]"
      ]
     },
     "execution_count": 35,
     "metadata": {},
     "output_type": "execute_result"
    }
   ],
   "source": [
    "# transformation\n",
    "XT_train = ohe.transform(X_train)\n",
    "print(XT_train.shape)\n",
    "XT_train.head()"
   ]
  },
  {
   "cell_type": "code",
   "execution_count": 59,
   "id": "6f69c1cf",
   "metadata": {},
   "outputs": [
    {
     "data": {
      "text/plain": [
       "Pipeline(steps=[('onehotencoder',\n",
       "                 OneHotEncoder(cols=['neighborhood'], use_cat_names=True)),\n",
       "                ('ridge', Ridge())])"
      ]
     },
     "execution_count": 59,
     "metadata": {},
     "output_type": "execute_result"
    }
   ],
   "source": [
    "model = make_pipeline(\n",
    "    OneHotEncoder(use_cat_names=True),\n",
    "#     LinearRegression()    \n",
    "    Ridge()\n",
    ")\n",
    "\n",
    "model.fit(X_train, y_train)"
   ]
  },
  {
   "cell_type": "code",
   "execution_count": 60,
   "id": "2bacd146",
   "metadata": {},
   "outputs": [
    {
     "name": "stdout",
     "output_type": "stream",
     "text": [
      "Training MAE: 39350.22\n"
     ]
    }
   ],
   "source": [
    "y_pred_training = model.predict(X_train)\n",
    "mae_training = mean_absolute_error(y_train, y_pred_training)\n",
    "print(\"Training MAE:\", round(mae_training, 2))"
   ]
  },
  {
   "cell_type": "code",
   "execution_count": 61,
   "id": "f1f2a979",
   "metadata": {},
   "outputs": [
    {
     "data": {
      "text/plain": [
       "0    246624.694624\n",
       "1    161355.968734\n",
       "2     98232.051308\n",
       "3    110846.030377\n",
       "4    127777.538197\n",
       "dtype: float64"
      ]
     },
     "execution_count": 61,
     "metadata": {},
     "output_type": "execute_result"
    }
   ],
   "source": [
    "X_test = pd.read_csv(\"data/buenos-aires-test-features.csv\", encoding='latin-1')[features]\n",
    "y_pred_test = pd.Series(model.predict(X_test))\n",
    "y_pred_test.head()"
   ]
  },
  {
   "cell_type": "code",
   "execution_count": 62,
   "id": "c1d22445",
   "metadata": {},
   "outputs": [
    {
     "name": "stdout",
     "output_type": "stream",
     "text": [
      "Model Intercept: 118525.0\n"
     ]
    }
   ],
   "source": [
    "\n",
    "intercept = model.named_steps['ridge'].intercept_.round()\n",
    "\n",
    "print(\"Model Intercept:\", intercept)"
   ]
  },
  {
   "cell_type": "code",
   "execution_count": 63,
   "id": "db958a9b",
   "metadata": {},
   "outputs": [
    {
     "name": "stdout",
     "output_type": "stream",
     "text": [
      "coefficients len: 57\n",
      "[-2.8990e+03 -6.0000e+00  9.2530e+03 -4.1749e+04 -3.2300e+03]\n"
     ]
    }
   ],
   "source": [
    "coefficients = model.named_steps['ridge'].coef_.round()\n",
    "\n",
    "print(\"coefficients len:\", len(coefficients))\n",
    "print(coefficients[:5])  # First five coefficients"
   ]
  },
  {
   "cell_type": "code",
   "execution_count": 64,
   "id": "08d71e64",
   "metadata": {},
   "outputs": [
    {
     "name": "stdout",
     "output_type": "stream",
     "text": [
      "features len: 57\n",
      "['neighborhood_Chacarita' 'neighborhood_Villa Luro'\n",
      " 'neighborhood_Caballito' 'neighborhood_Constitución' 'neighborhood_Once']\n"
     ]
    }
   ],
   "source": [
    "feature_names = model.named_steps['onehotencoder'].get_feature_names_out()\n",
    "print(\"features len:\", len(feature_names))\n",
    "print(feature_names[:5])  # First five feature names"
   ]
  },
  {
   "cell_type": "code",
   "execution_count": 65,
   "id": "359352c7",
   "metadata": {},
   "outputs": [
    {
     "data": {
      "text/plain": [
       "neighborhood_Chacarita       -2899.0\n",
       "neighborhood_Villa Luro         -6.0\n",
       "neighborhood_Caballito        9253.0\n",
       "neighborhood_Constitución   -41749.0\n",
       "neighborhood_Once            -3230.0\n",
       "dtype: float64"
      ]
     },
     "execution_count": 65,
     "metadata": {},
     "output_type": "execute_result"
    }
   ],
   "source": [
    "feat_imp = pd.Series(coefficients, index=feature_names)\n",
    "feat_imp.head()"
   ]
  },
  {
   "cell_type": "code",
   "execution_count": 66,
   "id": "4a6f5ed6",
   "metadata": {},
   "outputs": [
    {
     "name": "stdout",
     "output_type": "stream",
     "text": [
      "price = 118525.0\n",
      "+ (-2899.0 * neighborhood_Chacarita)\n",
      "+ (-6.0 * neighborhood_Villa Luro)\n",
      "+ (9253.0 * neighborhood_Caballito)\n",
      "+ (-41749.0 * neighborhood_Constitución)\n",
      "+ (-3230.0 * neighborhood_Once)\n",
      "+ (2903.0 * neighborhood_Almagro)\n",
      "+ (45934.0 * neighborhood_Palermo)\n",
      "+ (-8662.0 * neighborhood_Flores)\n",
      "+ (46954.0 * neighborhood_Belgrano)\n",
      "+ (-13729.0 * neighborhood_Liniers)\n",
      "+ (6277.0 * neighborhood_Villa Crespo)\n",
      "+ (-10679.0 * neighborhood_San Cristobal)\n",
      "+ (-7975.0 * neighborhood_Congreso)\n",
      "+ (14701.0 * neighborhood_Saavedra)\n",
      "+ (-11173.0 * neighborhood_Balvanera)\n",
      "+ (-29586.0 * neighborhood_Parque Avellaneda)\n",
      "+ (72741.0 * neighborhood_Recoleta)\n",
      "+ (5638.0 * neighborhood_San Telmo)\n",
      "+ (42831.0 * neighborhood_Nuñez)\n",
      "+ (55591.0 * neighborhood_Barrio Norte)\n",
      "+ (-6324.0 * neighborhood_Parque Centenario)\n",
      "+ (4331.0 * neighborhood_Abasto)\n",
      "+ (-7905.0 * neighborhood_Centro / Microcentro)\n",
      "+ (-19371.0 * neighborhood_)\n",
      "+ (-7108.0 * neighborhood_Paternal)\n",
      "+ (-21079.0 * neighborhood_Mataderos)\n",
      "+ (-48669.0 * neighborhood_Villa Lugano)\n",
      "+ (12223.0 * neighborhood_Coghlan)\n",
      "+ (72270.0 * neighborhood_Las Cañitas)\n",
      "+ (12672.0 * neighborhood_Villa Urquiza)\n",
      "+ (-20293.0 * neighborhood_Monserrat)\n",
      "+ (-8093.0 * neighborhood_Villa Pueyrredón)\n",
      "+ (-15807.0 * neighborhood_Parque Patricios)\n",
      "+ (-10734.0 * neighborhood_San Nicolás)\n",
      "+ (-12596.0 * neighborhood_Villa del Parque)\n",
      "+ (-6837.0 * neighborhood_Boedo)\n",
      "+ (-7679.0 * neighborhood_Parque Chacabuco)\n",
      "+ (-4619.0 * neighborhood_Barracas)\n",
      "+ (-32440.0 * neighborhood_Parque Chas)\n",
      "+ (38436.0 * neighborhood_Colegiales)\n",
      "+ (7715.0 * neighborhood_Villa General Mitre)\n",
      "+ (-11209.0 * neighborhood_Villa Ortuzar)\n",
      "+ (3861.0 * neighborhood_Villa Devoto)\n",
      "+ (-14088.0 * neighborhood_Floresta)\n",
      "+ (27043.0 * neighborhood_Retiro)\n",
      "+ (-4937.0 * neighborhood_Versalles)\n",
      "+ (-28353.0 * neighborhood_Boca)\n",
      "+ (128100.0 * neighborhood_Puerto Madero)\n",
      "+ (-773.0 * neighborhood_Agronomía)\n",
      "+ (-3427.0 * neighborhood_Monte Castro)\n",
      "+ (-7818.0 * neighborhood_Tribunales)\n",
      "+ (-19844.0 * neighborhood_Villa Santa Rita)\n",
      "+ (-27220.0 * neighborhood_Velez Sarsfield)\n",
      "+ (-59249.0 * neighborhood_Villa Soldati)\n",
      "+ (-7393.0 * neighborhood_Villa Real)\n",
      "+ (-43910.0 * neighborhood_Pompeya)\n",
      "+ (-22012.0 * neighborhood_Catalinas)\n"
     ]
    }
   ],
   "source": [
    "print(f\"price = {intercept.round(2)}\")\n",
    "for f, c in feat_imp.items():\n",
    "    print(f\"+ ({round(c, 2)} * {f})\")"
   ]
  },
  {
   "cell_type": "code",
   "execution_count": 72,
   "id": "61e0f29d",
   "metadata": {},
   "outputs": [
    {
     "data": {
      "image/png": "[encoded data removed]",
      "text/plain": [
       "<Figure size 640x480 with 1 Axes>"
      ]
     },
     "metadata": {},
     "output_type": "display_data"
    }
   ],
   "source": [
    "feat_imp.sort_values(key=abs).tail(15).plot(kind='barh')\n",
    "plt.xlabel('Importance [USD]')\n",
    "plt.ylabel('Feature')\n",
    "plt.title('Feature Importance for Apartment Price');"
   ]
  },
  {
   "cell_type": "code",
   "execution_count": null,
   "id": "503b2184",
   "metadata": {},
   "outputs": [],
   "source": []
  },
  {
   "cell_type": "code",
   "execution_count": null,
   "id": "f406c5cb",
   "metadata": {},
   "outputs": [],
   "source": []
  },
  {
   "cell_type": "code",
   "execution_count": null,
   "id": "64d197ab",
   "metadata": {},
   "outputs": [],
   "source": []
  },
  {
   "cell_type": "code",
   "execution_count": null,
   "id": "b9713cfc",
   "metadata": {},
   "outputs": [],
   "source": []
  }
 ],
 "metadata": {
  "kernelspec": {
   "display_name": "Python 3 (ipykernel)",
   "language": "python",
   "name": "python3"
  },
  "language_info": {
   "codemirror_mode": {
    "name": "ipython",
    "version": 3
   },
   "file_extension": ".py",
   "mimetype": "text/x-python",
   "name": "python",
   "nbconvert_exporter": "python",
   "pygments_lexer": "ipython3",
   "version": "3.9.13"
  }
 },
 "nbformat": 4,
 "nbformat_minor": 5
}
